{
 "cells": [
  {
   "cell_type": "code",
   "execution_count": 26,
   "id": "70977d03",
   "metadata": {},
   "outputs": [],
   "source": [
    "from keras.models import load_model\n",
    "from keras.preprocessing import image\n",
    "from keras.applications.vgg16 import preprocess_input\n",
    "import numpy as np\n",
    "import tensorflow as tf"
   ]
  },
  {
   "cell_type": "code",
   "execution_count": 27,
   "id": "ccaa33ce",
   "metadata": {},
   "outputs": [],
   "source": [
    "model = load_model('trained_model.h5')"
   ]
  },
  {
   "cell_type": "code",
   "execution_count": 28,
   "id": "e9e3e596",
   "metadata": {},
   "outputs": [],
   "source": [
    "img = tf.keras.utils.load_img('chest_xray//val//PNEUMONIA//person1946_bacteria_4875.jpeg', target_size=(64,64))"
   ]
  },
  {
   "cell_type": "code",
   "execution_count": 29,
   "id": "37fd6b3b",
   "metadata": {},
   "outputs": [
    {
     "name": "stdout",
     "output_type": "stream",
     "text": [
      "[[  2.   2.   2.]\n",
      " [  1.   1.   1.]\n",
      " [  0.   0.   0.]\n",
      " [ 11.  11.  11.]\n",
      " [  1.   1.   1.]\n",
      " [ 10.  10.  10.]\n",
      " [ 15.  15.  15.]\n",
      " [ 13.  13.  13.]\n",
      " [254. 254. 254.]\n",
      " [ 19.  19.  19.]\n",
      " [ 43.  43.  43.]\n",
      " [ 76.  76.  76.]\n",
      " [105. 105. 105.]\n",
      " [144. 144. 144.]\n",
      " [159. 159. 159.]\n",
      " [163. 163. 163.]\n",
      " [181. 181. 181.]\n",
      " [161. 161. 161.]\n",
      " [172. 172. 172.]\n",
      " [165. 165. 165.]\n",
      " [158. 158. 158.]\n",
      " [164. 164. 164.]\n",
      " [162. 162. 162.]\n",
      " [160. 160. 160.]\n",
      " [170. 170. 170.]\n",
      " [165. 165. 165.]\n",
      " [163. 163. 163.]\n",
      " [156. 156. 156.]\n",
      " [152. 152. 152.]\n",
      " [147. 147. 147.]\n",
      " [149. 149. 149.]\n",
      " [137. 137. 137.]\n",
      " [129. 129. 129.]\n",
      " [121. 121. 121.]\n",
      " [104. 104. 104.]\n",
      " [ 76.  76.  76.]\n",
      " [ 72.  72.  72.]\n",
      " [ 71.  71.  71.]\n",
      " [ 66.  66.  66.]\n",
      " [ 62.  62.  62.]\n",
      " [ 58.  58.  58.]\n",
      " [ 57.  57.  57.]\n",
      " [ 49.  49.  49.]\n",
      " [ 41.  41.  41.]\n",
      " [ 50.  50.  50.]\n",
      " [ 44.  44.  44.]\n",
      " [ 43.  43.  43.]\n",
      " [ 44.  44.  44.]\n",
      " [ 39.  39.  39.]\n",
      " [ 34.  34.  34.]\n",
      " [ 37.  37.  37.]\n",
      " [ 43.  43.  43.]\n",
      " [ 46.  46.  46.]\n",
      " [ 40.  40.  40.]\n",
      " [ 39.  39.  39.]\n",
      " [ 37.  37.  37.]\n",
      " [ 57.  57.  57.]\n",
      " [ 38.  38.  38.]\n",
      " [ 34.  34.  34.]\n",
      " [ 27.  27.  27.]\n",
      " [ 23.  23.  23.]\n",
      " [ 14.  14.  14.]\n",
      " [  0.   0.   0.]\n",
      " [ 11.  11.  11.]]\n"
     ]
    }
   ],
   "source": [
    "x = tf.keras.preprocessing.image.img_to_array(img)\n",
    "print(x[0])\n",
    "x = np.expand_dims(x, axis = 0)\n",
    "img_data = preprocess_input(x)"
   ]
  },
  {
   "cell_type": "code",
   "execution_count": 30,
   "id": "45bb8021",
   "metadata": {},
   "outputs": [
    {
     "name": "stdout",
     "output_type": "stream",
     "text": [
      "1/1 [==============================] - 0s 113ms/step\n"
     ]
    },
    {
     "data": {
      "text/plain": [
       "array([[1.]], dtype=float32)"
      ]
     },
     "execution_count": 30,
     "metadata": {},
     "output_type": "execute_result"
    }
   ],
   "source": [
    "classes = model.predict(img_data)\n",
    "classes"
   ]
  },
  {
   "cell_type": "markdown",
   "id": "69dbdefa",
   "metadata": {},
   "source": [
    "0 is NORMAL IMAGE\n",
    "1 is PNEUMONIA IMAGE"
   ]
  },
  {
   "cell_type": "code",
   "execution_count": 31,
   "id": "bde1eb10",
   "metadata": {},
   "outputs": [
    {
     "name": "stdout",
     "output_type": "stream",
     "text": [
      "Pneuomina\n"
     ]
    }
   ],
   "source": [
    "if(classes) == 1:\n",
    "    print(\"Pneuomina\")\n",
    "else:\n",
    "    print(\"Normal\")"
   ]
  }
 ],
 "metadata": {
  "kernelspec": {
   "display_name": "Python 3 (ipykernel)",
   "language": "python",
   "name": "python3"
  },
  "language_info": {
   "codemirror_mode": {
    "name": "ipython",
    "version": 3
   },
   "file_extension": ".py",
   "mimetype": "text/x-python",
   "name": "python",
   "nbconvert_exporter": "python",
   "pygments_lexer": "ipython3",
   "version": "3.9.12"
  },
  "vscode": {
   "interpreter": {
    "hash": "bf1e94845ad677225d304c0314109711fa84f6301fb40007acf22155961b721a"
   }
  }
 },
 "nbformat": 4,
 "nbformat_minor": 5
}
